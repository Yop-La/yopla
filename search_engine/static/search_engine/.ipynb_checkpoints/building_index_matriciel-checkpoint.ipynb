{
 "cells": [
  {
   "cell_type": "code",
   "execution_count": 45,
   "metadata": {},
   "outputs": [],
   "source": [
    "import string\n",
    "import re\n",
    "import nltk\n",
    "from scipy.sparse import coo_matrix\n",
    "import numpy as np\n",
    "#librairie pour faire du steeming ( réduire les mots à leurs racines) \n",
    "from nltk.stem.porter import PorterStemmer\n",
    "import collections;\n",
    "import time\n",
    "from collections import defaultdict\n",
    "from pickle import dump, load\n",
    "from nltk.tokenize import word_tokenize \n",
    "from nltk.corpus import stopwords\n",
    "ps = PorterStemmer()\n",
    "stop_words = set(stopwords.words('english'))\n",
    "import itertools\n",
    "import scipy.sparse\n"
   ]
  },
  {
   "cell_type": "code",
   "execution_count": 56,
   "metadata": {},
   "outputs": [],
   "source": [
    "\n",
    "def save_sparse_csr(filename, array):\n",
    "    np.savez(filename, data=array.data, col=array.col,\n",
    "             row=array.row, shape=array.shape)\n",
    "\n",
    "def load_sparse_csr(filename):\n",
    "    loader = np.load(filename)\n",
    "    return coo_matrix((loader['data'], (loader['row'], loader['col'])), shape=loader['shape'])"
   ]
  },
  {
   "cell_type": "code",
   "execution_count": 21,
   "metadata": {},
   "outputs": [],
   "source": [
    "#chargement de l'index\n",
    "with open('index.pkl', 'rb' ) as f:\n",
    "    index = load(f)"
   ]
  },
  {
   "cell_type": "code",
   "execution_count": 22,
   "metadata": {},
   "outputs": [],
   "source": [
    "#chargement du vocs\n",
    "with open('voc.pkl', 'rb' ) as f:\n",
    "    vocs = list(load(f))\n",
    "    \n"
   ]
  },
  {
   "cell_type": "code",
   "execution_count": 23,
   "metadata": {},
   "outputs": [],
   "source": [
    "#chargement des textes\n",
    "with open('list_text.pkl', 'rb' ) as f:\n",
    "    list_text = load(f)"
   ]
  },
  {
   "cell_type": "code",
   "execution_count": 5,
   "metadata": {},
   "outputs": [],
   "source": [
    "#chargement des matrices\n",
    "with open('index_mat_pre.pkl', 'rb' ) as f:\n",
    "    index_mat_pre = load(f)"
   ]
  },
  {
   "cell_type": "code",
   "execution_count": 6,
   "metadata": {},
   "outputs": [],
   "source": [
    "#chargement des matrices\n",
    "with open('index_mat_tf.pkl', 'rb' ) as f:\n",
    "    index_mat_tf = load(f)"
   ]
  },
  {
   "cell_type": "code",
   "execution_count": 7,
   "metadata": {},
   "outputs": [],
   "source": [
    "#chargement des matrices\n",
    "with open('index_mat_tf_idf.pkl', 'rb' ) as f:\n",
    "    index_mat_tf_idf = load(f)"
   ]
  },
  {
   "cell_type": "code",
   "execution_count": 24,
   "metadata": {},
   "outputs": [],
   "source": [
    "nb_words = len(index.keys())\n",
    "nb_texts = len(list_text)"
   ]
  },
  {
   "cell_type": "code",
   "execution_count": 25,
   "metadata": {},
   "outputs": [],
   "source": [
    "#fonction tokenise qui à partir d'un texte retourne une liste de token normalisé\n",
    "def tokenise( text ):\n",
    "    # split into words\n",
    "    tokens = word_tokenize(text)\n",
    "    # convert to lower case\n",
    "    tokens = [w.lower() for w in tokens]\n",
    "    # remove punctuation from each word\n",
    "    table = str.maketrans('', '', string.punctuation)\n",
    "    stripped = [w.translate(table) for w in tokens] \n",
    "    # stemming of words\n",
    "    stemmed = [ps.stem(word) for word in tokens]\n",
    "    # remove remaining tokens that are not alphabetic\n",
    "    words = [word for word in stripped if word.isalpha()]\n",
    "    # filter out stop words\n",
    "    words = [w for w in words if not w in stop_words]\n",
    "    return(words)"
   ]
  },
  {
   "cell_type": "markdown",
   "metadata": {},
   "source": [
    "On va transformer l'index en une matrice de docs ( ie une ligne = un doc et une colonne = un mot du voc )\n",
    "\n"
   ]
  },
  {
   "cell_type": "code",
   "execution_count": 26,
   "metadata": {},
   "outputs": [
    {
     "name": "stdout",
     "output_type": "stream",
     "text": [
      "CPU times: user 0 ns, sys: 0 ns, total: 0 ns\n",
      "Wall time: 13.6 µs\n"
     ]
    }
   ],
   "source": [
    "%%time\n",
    "#pour construire l'index matriciel\n",
    "\n",
    "def build_mat_index(metric):\n",
    "    col = []\n",
    "    row = []\n",
    "    data = []\n",
    "\n",
    "    for word, res_index in index.items():\n",
    "\n",
    "        indiceCol = vocs.index(word)\n",
    "        for text_res in res_index:\n",
    "            col.append(indiceCol)\n",
    "            row.append(text_res['indice_text'])\n",
    "            if metric == 'presence':\n",
    "                data.append(1)\n",
    "            elif metric == 'tf':\n",
    "                data.append(text_res['tf'])\n",
    "            elif metric == 'tf_idf':\n",
    "                data.append(text_res['tf_idf'])\n",
    "\n",
    "    mat_index = coo_matrix((data, (row, col)), shape=(nb_texts, nb_words))\n",
    "    return(mat_index)\n",
    "    \n"
   ]
  },
  {
   "cell_type": "code",
   "execution_count": 27,
   "metadata": {},
   "outputs": [
    {
     "name": "stdout",
     "output_type": "stream",
     "text": [
      "CPU times: user 7.1 s, sys: 0 ns, total: 7.1 s\n",
      "Wall time: 7.1 s\n"
     ]
    }
   ],
   "source": [
    "%%time\n",
    "# matrice avec comme métrique absence ou présence du mot\n",
    "index_mat_pre = build_mat_index('presence')"
   ]
  },
  {
   "cell_type": "code",
   "execution_count": 59,
   "metadata": {},
   "outputs": [],
   "source": [
    "save_sparse_csr(\"index_mat_pre.npz\", index_mat_pre)"
   ]
  },
  {
   "cell_type": "code",
   "execution_count": 29,
   "metadata": {},
   "outputs": [
    {
     "name": "stdout",
     "output_type": "stream",
     "text": [
      "CPU times: user 6.85 s, sys: 4 ms, total: 6.85 s\n",
      "Wall time: 6.87 s\n"
     ]
    }
   ],
   "source": [
    "%%time\n",
    "# matrice avec comme métrique tf\n",
    "index_mat_tf = build_mat_index('tf')"
   ]
  },
  {
   "cell_type": "code",
   "execution_count": 60,
   "metadata": {},
   "outputs": [],
   "source": [
    "sparse.save_npz(\"index_mat_tf.npz\", index_mat_tf)"
   ]
  },
  {
   "cell_type": "code",
   "execution_count": 31,
   "metadata": {},
   "outputs": [
    {
     "name": "stdout",
     "output_type": "stream",
     "text": [
      "CPU times: user 6.87 s, sys: 8 ms, total: 6.88 s\n",
      "Wall time: 6.88 s\n"
     ]
    }
   ],
   "source": [
    "%%time\n",
    "# matrice avec comme métrique tf_idf\n",
    "index_mat_tf_idf = build_mat_index('tf_idf')"
   ]
  },
  {
   "cell_type": "code",
   "execution_count": 61,
   "metadata": {},
   "outputs": [],
   "source": [
    "sparse.save_npz(\"index_mat_tf_idf.npz\", index_mat_tf_idf)"
   ]
  },
  {
   "cell_type": "markdown",
   "metadata": {},
   "source": [
    "## Fonction de vectorisation d'une requête"
   ]
  },
  {
   "cell_type": "code",
   "execution_count": 33,
   "metadata": {},
   "outputs": [],
   "source": [
    "def toVec(req):\n",
    "    vec = np.repeat(0, nb_words)\n",
    "    req = tokenise(req)\n",
    "    list_vocs = list(vocs)\n",
    "    \n",
    "    for word in req:\n",
    "        indiceCol = vocs.index(word)\n",
    "        vec[indiceCol] = 1\n",
    "    return(vec)"
   ]
  },
  {
   "cell_type": "code",
   "execution_count": 34,
   "metadata": {},
   "outputs": [
    {
     "data": {
      "text/plain": [
       "array([0, 0, 0, ..., 0, 0, 0])"
      ]
     },
     "execution_count": 34,
     "metadata": {},
     "output_type": "execute_result"
    }
   ],
   "source": [
    "toVec('communist party')"
   ]
  },
  {
   "cell_type": "markdown",
   "metadata": {},
   "source": [
    "## Fonction d'interrogation de l'index (calcul du produit scalaire)\n"
   ]
  },
  {
   "cell_type": "code",
   "execution_count": 35,
   "metadata": {},
   "outputs": [],
   "source": [
    "def search(mat_index,query):\n",
    "    query = np.array(toVec(query))\n",
    "    score_res = list(mat_index.dot(query))\n",
    "    return(score_res)"
   ]
  },
  {
   "cell_type": "code",
   "execution_count": 36,
   "metadata": {},
   "outputs": [
    {
     "data": {
      "text/plain": [
       "309"
      ]
     },
     "execution_count": 36,
     "metadata": {},
     "output_type": "execute_result"
    }
   ],
   "source": [
    "sum([int(x) for x in search(index_mat_pre,'air france')])"
   ]
  },
  {
   "cell_type": "code",
   "execution_count": 37,
   "metadata": {},
   "outputs": [
    {
     "data": {
      "text/plain": [
       "2"
      ]
     },
     "execution_count": 37,
     "metadata": {},
     "output_type": "execute_result"
    }
   ],
   "source": [
    "sum(toVec('air france'))"
   ]
  },
  {
   "cell_type": "markdown",
   "metadata": {},
   "source": [
    "## Pour retourner les n premiers résultas par ordre de pertinence \n"
   ]
  },
  {
   "cell_type": "code",
   "execution_count": 38,
   "metadata": {},
   "outputs": [],
   "source": [
    "def get_pertient_results(n,mat_index,query):\n",
    "    res_txt = []\n",
    "    score_res = search(mat_index,query)\n",
    "    for i in range(n):\n",
    "        pos_res = score_res.index(max(score_res))\n",
    "        score_res[pos_res] = -1\n",
    "        res_txt.append(pos_res)\n",
    "    return(res_txt)\n"
   ]
  },
  {
   "cell_type": "markdown",
   "metadata": {},
   "source": [
    "## Quelques comparaisons"
   ]
  },
  {
   "cell_type": "code",
   "execution_count": 39,
   "metadata": {},
   "outputs": [
    {
     "name": "stdout",
     "output_type": "stream",
     "text": [
      "CPU times: user 12 ms, sys: 0 ns, total: 12 ms\n",
      "Wall time: 12.2 ms\n"
     ]
    },
    {
     "data": {
      "text/plain": [
       "[87, 263, 264, 272, 273, 277, 288, 290, 293, 296]"
      ]
     },
     "execution_count": 39,
     "metadata": {},
     "output_type": "execute_result"
    }
   ],
   "source": [
    "%%time\n",
    "# les 10 résultats les plus pertinents avec présence/absence\n",
    "get_pertient_results(10,index_mat_pre,'air france')"
   ]
  },
  {
   "cell_type": "code",
   "execution_count": 40,
   "metadata": {},
   "outputs": [
    {
     "name": "stdout",
     "output_type": "stream",
     "text": [
      "CPU times: user 4 ms, sys: 0 ns, total: 4 ms\n",
      "Wall time: 4.41 ms\n"
     ]
    },
    {
     "data": {
      "text/plain": [
       "[2271, 2263, 263, 2287, 2279, 290, 273, 277, 296, 272]"
      ]
     },
     "execution_count": 40,
     "metadata": {},
     "output_type": "execute_result"
    }
   ],
   "source": [
    "%%time\n",
    "# les 10 résultats les plus pertinents avec tf\n",
    "get_pertient_results(10,index_mat_tf,'air france')"
   ]
  },
  {
   "cell_type": "code",
   "execution_count": 41,
   "metadata": {},
   "outputs": [
    {
     "name": "stdout",
     "output_type": "stream",
     "text": [
      "CPU times: user 4 ms, sys: 0 ns, total: 4 ms\n",
      "Wall time: 4.24 ms\n"
     ]
    },
    {
     "data": {
      "text/plain": [
       "[2271, 2263, 263, 2287, 2279, 290, 273, 277, 296, 272]"
      ]
     },
     "execution_count": 41,
     "metadata": {},
     "output_type": "execute_result"
    }
   ],
   "source": [
    "%%time\n",
    "# les 10 résultats les plus pertinents avec tf_idf\n",
    "get_pertient_results(10,index_mat_tf_idf,'air france')"
   ]
  },
  {
   "cell_type": "code",
   "execution_count": 42,
   "metadata": {},
   "outputs": [
    {
     "data": {
      "text/plain": [
       "'French state-owned airline Air France said on Thursday it was ready to take on the toughening competition in its domestic market posed by British Airways Plc (BA).\\nBA\\'s TAT French unit on Wednesday announced a joint 780 million franc bid ($151.2 million) with bank Rivaud for domestic carrier Air Liberte that will double its share of takeoff and landing slots at Paris\\' busy second airport Orly to 20 percent.\\nAn Air France spokeswoman acknowledged BA\\'s increased presence in France aviation would have an impact.\\n\"It certainly has consequences for us. But we will continue with improving our product and service while cutting our costs and prices,\" she said.\\nAfter approval by the Creteil commercial court, scheduled to meet on Friday, and an Air Liberte creditors meeting due within a month, BA would take a 70 percent stake in loss-making Air Liberte.\\nA spokesman for Air France Europe, the domestic wing of the Air France operation, said the company had an 80 percent market stake on the routes it operates and 60 percent on the total French market.\\nBut from April 1997, European liberalisation of the airline industry will fully throw open French airspace to competition.\\nThe French government moved the door ajar at the start of 1996 by allowing competition on the busy Paris-Toulouse and Paris-Marseille routes which were controlled by state-owned Air Inter, part of the Air France group.\\nOther French airlines had been allowed to fly less busy domestic routes as well as European and international routes.\\nBritish Airways bought its first 49.9 percent stake in TAT in 1993 and obtained the remainder last July.\\nAir Liberte, AOM and TAT have all tried to carve out market share ahead of liberalisation with a price war against Air France Europe, the renamed Air Inter. As a result they have suffered financially.\\nAOM, headed by Alexandre de Couvelaire, had been in talks with Air Liberte with an eye to a merger but the worsening financial situation at Air Liberte, which sought creditor protection on September 26, made a deal impossible.\\nAOM, 99 percent owned by the Consortium de Realisation (CDR) which was set up to sell assets of bank Credit Lyonnais, is now going it alone with some 10 percent of the slot at Orly.\\nBut industry sources said Air France could strike back in 1997 and make a bid for AOM to prevent another foreign airline from setting foot in France alongside British Airways.\\nAir France Europe plans to launch its \"Shuttle\" service between Paris and Toulouse next Monday, offering more departure times and a \"turn up and go\" service without reservations, as a major plank in its new commercial approach.\\nOther airlines in France are Air Littoral, owned by the Dufour family, the Dubreuil family\\'s Regional airlines, Xavier Leclerq\\'s Brit Airlines as well as Nouvelles Frontieres\\' Corsair and Euralair.\\nFor Air France, these domestic lines are important potential feeder operations for its international operations.\\nLast week Air france signed cooperation pacts with Continental Airlines and Delta Airlines Inc of the U.S. and it aims to sign a similar deal with an Asian airline in 1997.\\nThese pacts are based on the \"hub and spoke\" theory in which airlines boost traffic by taking passengers from a smaller airport to a big \"hub\" for long distance flights to another hub. From the second hub another smaller plane can be used to take the passenger to the final destination. ($1=5.157 French Franc)\\n'"
      ]
     },
     "execution_count": 42,
     "metadata": {},
     "output_type": "execute_result"
    }
   ],
   "source": [
    "# Texte le plus pertinent selon tf et tf_idf\n",
    "list_text[2271] \n",
    "# Air France apparait 10 fois !"
   ]
  },
  {
   "cell_type": "code",
   "execution_count": 43,
   "metadata": {},
   "outputs": [
    {
     "data": {
      "text/plain": [
       "'Eurotunnel Plc, the Anglo-French Channel Tunnel operator, said on Tuesday that its traffic will be cut to one third of normal levels after a fire swept through one of its main tunnels on Monday night, injuring eight people.\\nServices have been terminated until the tunnel affected is cleared. A Eurotunnel spokesman in London said there was no fixed time for when services would resume or how long reduced capacity will operate once the tunnel is opened.\\nNews of the fire and worries about the extent of damage and a resultant safety review hit Eurotunnel\\'s shares in both London and Paris.\\nThe fire is the latest issue to dog Eurotunnel\\'s performance which has been plagued by negotiations to rejig nine billion pounds ($15 billion) in debt.\\nIn London, Eurotunnel shares fell 3-1/2 pence to 88 pence while in Paris the stock was down around two percent at 7.68 francs per share. But trading in its debt was barely changed.\\nCommenting on the initial impact on traffic, a Eurotunnel spokesman in London said, \"We will operate at one third of normal capacity and we will give priority to Eurostar (passenger) trains. But there will still be space for shuttle trains as well.\"\\nHe did not say how many Eurostar or Le Shuttle trains would be cancelled as a result.\\nThe Tunnel\\'s operations were closed after a fire engulfed part of one of two tunnels, near to Calais where parties from France and Britain had been holding a safety conference.\\nThe Eurotunnel spokesman said it did not yet know the full extent of damage to rolling stock or the tunnel itself or how much it could cost, but admitted it was a \"very ferocious fire.\"\\n\"It\\'s quite messy down there. There will be damage to the overhead powerline cables, the heat will have buckled the steel rails and the carriages involved would be very badly damaged and may need to be replaced,\" he said.\\nThe cost of a new train is 25 million pounds, but Eurotunnel did not think an entire train would need replacing. But Eurotunnel faces costs in repairing tunnel and rolling stock damage and may face compensation costs, possibly involving paying for customers to travel by ferry or air.\\nThe company said at this stage that it does not know the cause of the fire. But unconfirmed media reports say the fire began in a truck carrying inflammable polystyrene.\\nThe heavy goods vehicle shuttles are known to have partially open sides -- the safety of which had been questioned by the British fire brigade some years before.\\nMike Frattini, fire officer and spokesman for the Kent Fire Brigade which helped put out the tunnel fire, said earlier: \"Our chief officer warned the safety committee (for the tunnel) five years ago.\"\\nFire fighters could raise this objection again as part of the investigation which will go to the Anglo-French Channel Tunnel Safety Authority.\\nIf the current goods carriages are deemed to be hazardous in light of the accident there could be a call for changes, incurring further costs to Eurotunnel.\\nEurotunnel\\'s spokesman refused to comment on whether changes will need to be made to carriages, adding that \"It is a key question.\"\\nThe fire comes just before Christmas when the tunnel was expected to see a surge in holiday sales. But pre-holiday publicity now consists of media reports of choking people emerging from smoke and \"blow-torch\"-like heat.\\nAsked whether this would dampen customer demand, Eurotunnel said \"We hope not. But what\\'s happened has happened and how the fire was handled should renew confidence in our safety procedures,\" said the press officer.\\nOne analyst at Natwest Securities said there should be little further impact on shares or consumer confidence.\\nShares in cross-channel ferry operator P&amp;O were five pence higher at 602-1/2p.\\n($1=.5970 Pound)\\n'"
      ]
     },
     "execution_count": 43,
     "metadata": {},
     "output_type": "execute_result"
    }
   ],
   "source": [
    "# Texte le plus pertinent selon présence/absence\n",
    "list_text[87]\n",
    "# Air apparait 1 fois et France 1 fois -> moins pertinent"
   ]
  },
  {
   "cell_type": "code",
   "execution_count": null,
   "metadata": {},
   "outputs": [],
   "source": []
  },
  {
   "cell_type": "code",
   "execution_count": null,
   "metadata": {},
   "outputs": [],
   "source": []
  }
 ],
 "metadata": {
  "kernelspec": {
   "display_name": "Python 3",
   "language": "python",
   "name": "python3"
  },
  "language_info": {
   "codemirror_mode": {
    "name": "ipython",
    "version": 3
   },
   "file_extension": ".py",
   "mimetype": "text/x-python",
   "name": "python",
   "nbconvert_exporter": "python",
   "pygments_lexer": "ipython3",
   "version": "3.7.1"
  }
 },
 "nbformat": 4,
 "nbformat_minor": 2
}
